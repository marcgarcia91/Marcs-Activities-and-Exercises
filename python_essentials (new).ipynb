{
 "cells": [
  {
   "cell_type": "code",
   "execution_count": 1,
   "metadata": {},
   "outputs": [
    {
     "name": "stdout",
     "output_type": "stream",
     "text": [
      "Hello world!\n"
     ]
    }
   ],
   "source": [
    "print(\"Hello world!\")"
   ]
  },
  {
   "cell_type": "markdown",
   "metadata": {},
   "source": [
    "## Comments\n",
    "Commenting is the process of adding annotations or remarks within your code to provide explanations, context, or documentation. Comments are not executed by the interpreter/compiler and are purely for the benefit of developers reading the code."
   ]
  },
  {
   "cell_type": "code",
   "execution_count": 5,
   "metadata": {},
   "outputs": [],
   "source": [
    "# This is a single line comment"
   ]
  },
  {
   "cell_type": "code",
   "execution_count": 4,
   "metadata": {},
   "outputs": [
    {
     "data": {
      "text/plain": [
       "'\\nThis is another way to create comments.\\nMulti-line comments.\\nenclosed in triple quotes\\n'"
      ]
     },
     "execution_count": 4,
     "metadata": {},
     "output_type": "execute_result"
    }
   ],
   "source": [
    "\"\"\"\n",
    "This is another way to create comments.\n",
    "Multi-line comments.\n",
    "enclosed in triple quotes\n",
    "\"\"\""
   ]
  },
  {
   "cell_type": "code",
   "execution_count": 7,
   "metadata": {},
   "outputs": [],
   "source": [
    "x = 5 # This is an inline comment"
   ]
  },
  {
   "cell_type": "markdown",
   "metadata": {},
   "source": [
    "## Python Variables"
   ]
  },
  {
   "cell_type": "markdown",
   "metadata": {},
   "source": [
    "**Creating Variables**\n",
    "\n",
    "Creating a variable in Python is simple. You assign a value to a variable name and start using it. Python figures out the variable type automatically.\n",
    "\n",
    "**Variable Naming Rules**\n",
    "- Variable names can contain letters (both uppercase and lowercase), digits, and underscores.\n",
    "- They must begin with a letter or an underscore (_), but not with a digit.\n",
    "- Case sensitive (myVar and myvar are different variables)\n",
    "- Python keywords cannot be used as variable names."
   ]
  },
  {
   "cell_type": "code",
   "execution_count": 13,
   "metadata": {},
   "outputs": [],
   "source": [
    "# Things to Avoid\n",
    "# x - 2 = 10\n",
    "# True = 5\n",
    "# False = 4\n",
    "# 2 = 5"
   ]
  },
  {
   "cell_type": "markdown",
   "metadata": {},
   "source": [
    "## Data Types ##\n",
    "\n",
    "### Numeric Types\n",
    "\n",
    "**int** - Integer values, such as `5`, `-3`, `1000`, etc."
   ]
  },
  {
   "cell_type": "code",
   "execution_count": 28,
   "metadata": {},
   "outputs": [
    {
     "name": "stdout",
     "output_type": "stream",
     "text": [
      "5\n",
      "-20\n"
     ]
    }
   ],
   "source": [
    "integer_number = 5\n",
    "negative_int = -20\n",
    "print(integer_number)\n",
    "print(negative_int)\n"
   ]
  },
  {
   "cell_type": "code",
   "execution_count": 30,
   "metadata": {},
   "outputs": [
    {
     "name": "stdout",
     "output_type": "stream",
     "text": [
      "Type of integer_number: <class 'int'>\n"
     ]
    }
   ],
   "source": [
    "print(\"Type of integer_number:\", type(integer_number))"
   ]
  },
  {
   "cell_type": "markdown",
   "metadata": {},
   "source": [
    "**float**: Floating-point values, representing decimal numbers, such as `3.14`, `-0.001`, `2.0`, etc."
   ]
  },
  {
   "cell_type": "code",
   "execution_count": 34,
   "metadata": {},
   "outputs": [
    {
     "name": "stdout",
     "output_type": "stream",
     "text": [
      "2.14\n",
      "-20.55\n"
     ]
    }
   ],
   "source": [
    "float_number = 2.14\n",
    "negative_float = -20.55\n",
    "print(float_number)\n",
    "print(negative_float)"
   ]
  },
  {
   "cell_type": "code",
   "execution_count": 29,
   "metadata": {},
   "outputs": [
    {
     "name": "stdout",
     "output_type": "stream",
     "text": [
      "Type of float_number: <class 'float'>\n"
     ]
    }
   ],
   "source": [
    "print(\"Type of float_number:\", type(float_number))"
   ]
  },
  {
   "cell_type": "markdown",
   "metadata": {},
   "source": [
    "## Sequence Types ##\n",
    "1. **String**: String values, representing text or characters, such as 'hello', \"world\", '123', etc."
   ]
  },
  {
   "cell_type": "code",
   "execution_count": 7,
   "metadata": {},
   "outputs": [
    {
     "name": "stdout",
     "output_type": "stream",
     "text": [
      "Hello World!\n",
      "Hello Python\n",
      "user123\n",
      "H\n",
      "!\n"
     ]
    }
   ],
   "source": [
    "str1 = \"Hello World!\"\n",
    "str2 = 'Hello Python'\n",
    "user = \"user123\"\n",
    "print(str1)\n",
    "print(str2)\n",
    "print(user)\n",
    "\n",
    "# String index\n",
    "print(str1[0])\n",
    "print(str1[-1])"
   ]
  },
  {
   "cell_type": "code",
   "execution_count": 3,
   "metadata": {},
   "outputs": [
    {
     "name": "stdout",
     "output_type": "stream",
     "text": [
      "<class 'str'>\n"
     ]
    }
   ],
   "source": [
    "print(type(str1))"
   ]
  },
  {
   "cell_type": "markdown",
   "metadata": {},
   "source": [
    "2. **Lists**: Lists are used when you need a collection of elements that can be modified or reordered. They are suitable for sequences of items of the same type or different types."
   ]
  },
  {
   "cell_type": "code",
   "execution_count": 9,
   "metadata": {},
   "outputs": [
    {
     "name": "stdout",
     "output_type": "stream",
     "text": [
      "[1, 2, 3, 4, 5]\n",
      "['Princess', 'Ralph', 'Lynbert']\n",
      "1\n",
      "['Lim', 'Ralph', 'Lynbert']\n"
     ]
    }
   ],
   "source": [
    "numbers = [1, 2, 3, 4, 5] # list of ints\n",
    "names = [\"Princess\", \"Ralph\", \"Lynbert\"] #list of strings\n",
    "print(numbers)\n",
    "print(names)\n",
    "\n",
    "# List indexing\n",
    "print(numbers[0])\n",
    "names[0] = \"Lim\"\n",
    "print(names)"
   ]
  },
  {
   "cell_type": "markdown",
   "metadata": {},
   "source": [
    "3. **Tuple**: Tuples are used when you want to store a fixed collection of elements that should not be changed. They are often used for immutable sequences, such as coordinates, database records, or function return values."
   ]
  },
  {
   "cell_type": "code",
   "execution_count": 10,
   "metadata": {},
   "outputs": [
    {
     "name": "stdout",
     "output_type": "stream",
     "text": [
      "(1, 'hello', 3.14)\n"
     ]
    }
   ],
   "source": [
    "tuple_values = (1, \"hello\", 3.14)\n",
    "print(tuple_values)"
   ]
  },
  {
   "cell_type": "code",
   "execution_count": 2,
   "metadata": {},
   "outputs": [
    {
     "ename": "NameError",
     "evalue": "name 'tuple_values' is not defined",
     "output_type": "error",
     "traceback": [
      "\u001b[1;31m---------------------------------------------------------------------------\u001b[0m",
      "\u001b[1;31mNameError\u001b[0m                                 Traceback (most recent call last)",
      "Cell \u001b[1;32mIn[2], line 1\u001b[0m\n\u001b[1;32m----> 1\u001b[0m \u001b[43mtuple_values\u001b[49m[\u001b[38;5;241m0\u001b[39m] \u001b[38;5;241m=\u001b[39m \u001b[38;5;241m2\u001b[39m\n\u001b[0;32m      2\u001b[0m \u001b[38;5;28mprint\u001b[39m(tuple_values)\n\u001b[0;32m      3\u001b[0m \u001b[38;5;66;03m# Tuples are not allowed to be changed.\u001b[39;00m\n",
      "\u001b[1;31mNameError\u001b[0m: name 'tuple_values' is not defined"
     ]
    }
   ],
   "source": [
    "tuple_values[0] = 2\n",
    "print(tuple_values)\n",
    "# Tuples are not allowed to be changed."
   ]
  },
  {
   "cell_type": "markdown",
   "metadata": {},
   "source": [
    "**Dictionaries**:  Dictionaries are used when you need to associate keys with values for efficient lookup. They are suitable for representing data with key-value relationships, such as mappings, configurations, or database records indexed by unique keys."
   ]
  },
  {
   "cell_type": "code",
   "execution_count": 14,
   "metadata": {},
   "outputs": [
    {
     "name": "stdout",
     "output_type": "stream",
     "text": [
      "{'name': 'John', 'age': 30}\n",
      "30\n"
     ]
    }
   ],
   "source": [
    "person = {\"name\": \"John\", \"age\": 30}\n",
    "print(person)\n",
    "print(person['age'])"
   ]
  },
  {
   "cell_type": "markdown",
   "metadata": {},
   "source": [
    "### Boolean Type:\n",
    "**bool**: Boolean values representing True or False."
   ]
  },
  {
   "cell_type": "code",
   "execution_count": 16,
   "metadata": {},
   "outputs": [
    {
     "name": "stdout",
     "output_type": "stream",
     "text": [
      "True\n",
      "False\n",
      "<class 'bool'>\n"
     ]
    }
   ],
   "source": [
    "is_valid = True\n",
    "is_admin = False\n",
    "print(is_valid)\n",
    "print(is_admin)\n",
    "\n",
    "print(type(is_valid))"
   ]
  },
  {
   "cell_type": "markdown",
   "metadata": {},
   "source": [
    "**Dynamic Typing**\n",
    "\n",
    "Variables can change type after they have been set. This is known as dynamic typing.\n"
   ]
  },
  {
   "cell_type": "code",
   "execution_count": 20,
   "metadata": {},
   "outputs": [
    {
     "name": "stdout",
     "output_type": "stream",
     "text": [
      "<class 'int'>\n",
      "<class 'str'>\n",
      "<class 'float'>\n"
     ]
    }
   ],
   "source": [
    "my_var = 10\n",
    "print(type(my_var))\n",
    "\n",
    "my_var = \"Test String\"\n",
    "print(type(my_var))\n",
    "\n",
    "my_var = 1.2\n",
    "print(type(my_var))"
   ]
  },
  {
   "cell_type": "markdown",
   "metadata": {},
   "source": [
    "## Python Operators and Expressions\n",
    "\n",
    "### Arithmetic Operators\n"
   ]
  },
  {
   "cell_type": "code",
   "execution_count": 26,
   "metadata": {},
   "outputs": [
    {
     "name": "stdout",
     "output_type": "stream",
     "text": [
      "Addition: 15\n",
      "Subtraction: -5\n",
      "Multiplication: 50\n",
      "Division: 0.5\n",
      "Modulus: 2\n",
      "Exponent:  1000\n"
     ]
    }
   ],
   "source": [
    "# Addition +\n",
    "print(\"Addition:\", 5 + 10)\n",
    "\n",
    "# Subtraction -\n",
    "print(\"Subtraction:\", 5 - 10)\n",
    "\n",
    "# Multiplication *\n",
    "print(\"Multiplication:\", 5 * 10)\n",
    "\n",
    "# Division /\n",
    "print(\"Division:\", 5 / 10)\n",
    "\n",
    "# Modulus %\n",
    "print(\"Modulus:\", 23 % 7)\n",
    "\n",
    "# Exponent\n",
    "print(\"Exponent: \", 10 ** 3) #10^3"
   ]
  },
  {
   "cell_type": "markdown",
   "metadata": {},
   "source": [
    "### Comparison Operators"
   ]
  },
  {
   "cell_type": "code",
   "execution_count": 34,
   "metadata": {},
   "outputs": [
    {
     "name": "stdout",
     "output_type": "stream",
     "text": [
      "False\n",
      "True\n",
      "True\n",
      "False\n",
      "True\n",
      "False\n",
      "False\n"
     ]
    }
   ],
   "source": [
    "x = 10\n",
    "y = 5\n",
    "\n",
    "# Equal to\n",
    "result = x == y\n",
    "print(result)\n",
    "\n",
    "# Not equal to\n",
    "result = x != y\n",
    "print(result)\n",
    "\n",
    "# Greater Than\n",
    "result = x > y\n",
    "print(result)\n",
    "\n",
    "# Less Than\n",
    "result = x < y\n",
    "print(result)\n",
    "\n",
    "# greater than or equal to\n",
    "result = x >= y\n",
    "print(result)\n",
    "\n",
    "# less than or equal to\n",
    "result = x <= y\n",
    "print(result)\n",
    "\n",
    "result = x <= y\n",
    "print(result)"
   ]
  },
  {
   "cell_type": "markdown",
   "metadata": {},
   "source": [
    "### Logical Operators:"
   ]
  },
  {
   "cell_type": "code",
   "execution_count": 40,
   "metadata": {},
   "outputs": [
    {
     "name": "stdout",
     "output_type": "stream",
     "text": [
      "True\n",
      "True\n",
      "False\n"
     ]
    }
   ],
   "source": [
    "x = 10\n",
    "y = 5\n",
    "\n",
    "# AND\n",
    "result = (x > 5) and (y < 10)\n",
    "print(result)\n",
    "\n",
    "# OR\n",
    "result = (x > 5) or (y < 3)\n",
    "print(result)\n",
    "\n",
    "# NOT\n",
    "result = not (x == 10)\n",
    "print(result)"
   ]
  },
  {
   "cell_type": "markdown",
   "metadata": {},
   "source": [
    "## Assignment Operators"
   ]
  },
  {
   "cell_type": "code",
   "execution_count": 44,
   "metadata": {},
   "outputs": [
    {
     "name": "stdout",
     "output_type": "stream",
     "text": [
      "15\n",
      "10\n",
      "50\n",
      "10.0\n"
     ]
    }
   ],
   "source": [
    "x = 10\n",
    "\n",
    "#Addition Assignment\n",
    "x += 5 # x = x + 5\n",
    "print(x)\n",
    "\n",
    "#Subtraction\n",
    "x -= 5\n",
    "print(x)\n",
    "\n",
    "#Multiplication\n",
    "x *= 5\n",
    "print(x)\n",
    "\n",
    "#Division\n",
    "x /= 5\n",
    "print(x)"
   ]
  },
  {
   "cell_type": "markdown",
   "metadata": {},
   "source": [
    "### Type Coercion or Type Conversion"
   ]
  },
  {
   "cell_type": "code",
   "execution_count": 50,
   "metadata": {},
   "outputs": [
    {
     "name": "stdout",
     "output_type": "stream",
     "text": [
      "10.0\n",
      "<class 'float'>\n",
      "10.23\n",
      "<class 'str'>\n",
      "10\n"
     ]
    }
   ],
   "source": [
    "x = 10 # int\n",
    "\n",
    "# converting to float\n",
    "x = float(x)\n",
    "print(x)\n",
    "print(type(x))\n",
    "\n",
    "# convert to string\n",
    "x = 10.23\n",
    "x = str(x)\n",
    "\n",
    "print(x)\n",
    "print(type(x))\n",
    "\n",
    "x = 10.45\n",
    "x = int(x)\n",
    "print(x)"
   ]
  },
  {
   "cell_type": "markdown",
   "metadata": {},
   "source": [
    "## String Methods"
   ]
  },
  {
   "cell_type": "code",
   "execution_count": 59,
   "metadata": {},
   "outputs": [
    {
     "name": "stdout",
     "output_type": "stream",
     "text": [
      "Hello Python!\n",
      "13\n",
      "H\n",
      "Hello\n",
      "!gnirts siht esreveR\n",
      "siht \n"
     ]
    }
   ],
   "source": [
    "my_string = \"Hello Python!\"\n",
    "print(my_string)\n",
    "print(len(my_string))\n",
    "\n",
    "first_letter = my_string[0]\n",
    "print(first_letter)\n",
    "\n",
    "slice_string = my_string[0:5]\n",
    "print(slice_string)\n",
    "\n",
    "my_text = \"Reverse this string!\"\n",
    "# starting point: ending point : traversal method\n",
    "reversed_string = my_text[::-1]\n",
    "print(reversed_string)\n",
    "\n",
    "reverse_this = my_text[11:6:-1]\n",
    "print(reverse_this)"
   ]
  },
  {
   "cell_type": "code",
   "execution_count": 69,
   "metadata": {},
   "outputs": [
    {
     "name": "stdout",
     "output_type": "stream",
     "text": [
      "Data analytics course\n",
      "Data Analytics Course\n",
      "True\n",
      "False\n",
      "5\n",
      "-1\n",
      "information analytics course\n",
      "Information Analytics Course\n",
      "DATA ANALYTICS COURSE\n",
      "data analytics course\n"
     ]
    }
   ],
   "source": [
    "sample_string = \"data analytics course\"\n",
    "\n",
    "# capitalize\n",
    "print(sample_string.capitalize())\n",
    "\n",
    "# title\n",
    "print(sample_string.title())\n",
    "\n",
    "# in\n",
    "print(\"data\" in sample_string)\n",
    "print(\"science\" in sample_string)\n",
    "\n",
    "# find\n",
    "print(sample_string.find(\"analytics\"))\n",
    "print(sample_string.find(\"science\"))\n",
    "\n",
    "#replace\n",
    "print(sample_string.replace(\"data\", \"information\"))\n",
    "\n",
    "# combine\n",
    "print(sample_string.replace(\"data\", \"information\").title())\n",
    "\n",
    "# lower and uppercase\n",
    "print(sample_string.upper())\n",
    "print(sample_string.lower())"
   ]
  },
  {
   "cell_type": "code",
   "execution_count": 73,
   "metadata": {},
   "outputs": [
    {
     "name": "stdout",
     "output_type": "stream",
     "text": [
      "2\n",
      "Data Analyst - Junior\n",
      "Words: ['Python', 'is', 'fun', 'to', 'learn']\n"
     ]
    }
   ],
   "source": [
    "text = \"the quick brown fox jumps over the lazy dog\"\n",
    "\n",
    "# count\n",
    "print(text.count(\"the\"))\n",
    "\n",
    "messy_string = \"        Data Analyst - Junior       \"\n",
    "# strip\n",
    "print(messy_string.strip())\n",
    "\n",
    "# split\n",
    "sentence = \"Python is fun to learn\"\n",
    "words = sentence.split()\n",
    "print(\"Words:\", words)"
   ]
  },
  {
   "cell_type": "markdown",
   "metadata": {},
   "source": [
    "**Concatenation, f-strings and .format()**"
   ]
  },
  {
   "cell_type": "code",
   "execution_count": 79,
   "metadata": {},
   "outputs": [
    {
     "name": "stdout",
     "output_type": "stream",
     "text": [
      "Abbi Vicente\n",
      "Hello my name is Abbi Vicente\n",
      "\n",
      "SELECT * FROM\n",
      "WHERE\n",
      "x in (Abbi)\n",
      "\n"
     ]
    }
   ],
   "source": [
    "first_name = \"Abbi\"\n",
    "last_name = \"Vicente\"\n",
    "\n",
    "full_name = first_name + \" \" + last_name\n",
    "print(full_name)\n",
    "\n",
    "#f-strings\n",
    "print(f\"Hello my name is {first_name} {last_name}\")\n",
    "\n",
    "sql_str = \"\"\"\n",
    "SELECT * FROM\n",
    "WHERE\n",
    "x in ({x})\n",
    "\"\"\"\n",
    "\n",
    "print(sql_str.format(x=first_name))"
   ]
  },
  {
   "cell_type": "markdown",
   "metadata": {},
   "source": [
    "## List Methods"
   ]
  },
  {
   "cell_type": "code",
   "execution_count": 85,
   "metadata": {},
   "outputs": [
    {
     "name": "stdout",
     "output_type": "stream",
     "text": [
      "['Python', 'Java', 'C++']\n",
      "['Python', 'Java', 'C++', 'PHP']\n",
      "['Python', 'Java', 'Ruby', 'C++', 'PHP']\n",
      "['Python', 'Java', 'Ruby', 'C++']\n",
      "['Python', 'Ruby', 'C++']\n",
      "['Python', 'C++']\n"
     ]
    }
   ],
   "source": [
    "# Create list\n",
    "my_list = [\"Python\", \"Java\", \"C++\"]\n",
    "print(my_list)\n",
    "\n",
    "# Adding a new item - append\n",
    "my_list.append(\"PHP\")\n",
    "print(my_list)\n",
    "\n",
    "# Insert item at a specific position\n",
    "my_list.insert(2, \"Ruby\")\n",
    "print(my_list)\n",
    "\n",
    "# Remove item at the end\n",
    "my_list.pop()\n",
    "print(my_list)\n",
    "\n",
    "# remove specific value\n",
    "my_list.remove(\"Java\")\n",
    "print(my_list)\n",
    "\n",
    "# remove by index\n",
    "del my_list[1]\n",
    "print(my_list)"
   ]
  },
  {
   "cell_type": "code",
   "execution_count": 87,
   "metadata": {},
   "outputs": [
    {
     "data": {
      "text/plain": [
       "[4, 3, 2, 1]"
      ]
     },
     "execution_count": 87,
     "metadata": {},
     "output_type": "execute_result"
    }
   ],
   "source": [
    "# list slicing\n",
    "list_data = [1, 2, 3, 4, 5]\n",
    "\n",
    "# starting point : ending point : traversal method\n",
    "list_data[3:]\n",
    "list_data[3::-1]"
   ]
  },
  {
   "cell_type": "code",
   "execution_count": 89,
   "metadata": {},
   "outputs": [
    {
     "name": "stdout",
     "output_type": "stream",
     "text": [
      "[1, 2, 3, 'a', 'b', True]\n",
      "[1, 2, 3, 'a', 'b', True]\n"
     ]
    }
   ],
   "source": [
    "# list extending\n",
    "list_a = [1, 2, 3]\n",
    "list_b = [\"a\", \"b\", True]\n",
    "\n",
    "# combining lists\n",
    "print(list_a + list_b)\n",
    "\n",
    "# extendin a list with another list\n",
    "list_a.extend(list_b)\n",
    "print(list_a)"
   ]
  },
  {
   "cell_type": "code",
   "execution_count": 93,
   "metadata": {},
   "outputs": [
    {
     "name": "stdout",
     "output_type": "stream",
     "text": [
      "[3, 5, 8, 19, 20]\n",
      "[20, 19, 8, 5, 3]\n",
      "['Al', 'Brandy', 'Cristina', 'Marc']\n"
     ]
    }
   ],
   "source": [
    "# sort\n",
    "list_data = [3, 5, 19, 20, 8]\n",
    "list_data.sort()\n",
    "print(list_data)\n",
    "\n",
    "# Descending order\n",
    "list_data.sort(reverse=True)\n",
    "print(list_data)\n",
    "\n",
    "list_names = [\"Brandy\", \"Al\", \"Cristina\", \"Marc\"]\n",
    "list_names.sort()\n",
    "print(list_names)"
   ]
  },
  {
   "cell_type": "markdown",
   "metadata": {},
   "source": [
    "## Tuple Methods"
   ]
  },
  {
   "cell_type": "code",
   "execution_count": 99,
   "metadata": {},
   "outputs": [
    {
     "name": "stdout",
     "output_type": "stream",
     "text": [
      "3\n",
      "3\n",
      "(1, 2, 3, 4)\n",
      "(1, 2, 1, 2, 1, 2)\n"
     ]
    }
   ],
   "source": [
    "#create a tuple\n",
    "tuple_data = (1, 2, 3, 4, 5)\n",
    "print(tuple_data[2])\n",
    "\n",
    "nested_list_tuple = ([1, 2], [3, 4], [5, 6])\n",
    "print(nested_list_tuple[1][0])\n",
    "\n",
    "# combining tuples\n",
    "tuple_data = (1, 2) + (3, 4)\n",
    "print(tuple_data)\n",
    "\n",
    "# duplicating tuples in one tuple\n",
    "tuple_data = (1, 2) * 3\n",
    "print(tuple_data)"
   ]
  },
  {
   "cell_type": "code",
   "execution_count": 100,
   "metadata": {},
   "outputs": [
    {
     "name": "stdout",
     "output_type": "stream",
     "text": [
      "[10, 4]\n"
     ]
    }
   ],
   "source": [
    "nested_list_tuple = ([1, 2], [3, 4], [5, 6])\n",
    "nested_list_tuple[1][0] = 10\n",
    "print(nested_list_tuple[1])"
   ]
  },
  {
   "cell_type": "markdown",
   "metadata": {},
   "source": [
    "### Dictionary Methods"
   ]
  },
  {
   "cell_type": "code",
   "execution_count": 1,
   "metadata": {},
   "outputs": [
    {
     "name": "stdout",
     "output_type": "stream",
     "text": [
      "John\n",
      "PH\n",
      "{'name': 'John', 'country': 'PH'}\n",
      "dict_keys(['name', 'country'])\n",
      "dict_values(['John', 'PH'])\n",
      "dict_items([('name', 'John'), ('country', 'PH')])\n"
     ]
    }
   ],
   "source": [
    "dict_data = {\"name\": \"John\",\"age\": 20,\"country\": \"PH\"}\n",
    "print(dict_data[\"name\"])\n",
    "# get\n",
    "print(dict_data.get(\"country\"))\n",
    "# remove key-value pairs\n",
    "del dict_data[\"age\"]\n",
    "print(dict_data)\n",
    "# keys - List out keys of a dictionary\n",
    "print(dict_data.keys())\n",
    "# values - List out values of a dictionary\n",
    "print(dict_data.values())\n",
    "# items - get key-value pairs\n",
    "print(dict_data.items())"
   ]
  },
  {
   "cell_type": "code",
   "execution_count": 2,
   "metadata": {},
   "outputs": [
    {
     "name": "stdout",
     "output_type": "stream",
     "text": [
      "{'a': 1, 'b': 2}\n",
      "{'b': 3, 'c': 4}\n",
      "{'a': 1, 'b': 3, 'c': 4}\n"
     ]
    }
   ],
   "source": [
    "dict_data1 = {\"a\": 1, \"b\": 2}\n",
    "print(dict_data1)\n",
    "dict_data2 = {\"b\": 3, \"c\": 4}\n",
    "print(dict_data2)\n",
    "# update - update/merge\n",
    "dict_data1.update(dict_data2)\n",
    "print(dict_data1)"
   ]
  },
  {
   "cell_type": "markdown",
   "metadata": {},
   "source": [
    "### Getting a Dictionary of Keys and Default Values"
   ]
  },
  {
   "cell_type": "code",
   "execution_count": 3,
   "metadata": {},
   "outputs": [
    {
     "name": "stdout",
     "output_type": "stream",
     "text": [
      "{'a': 0, 'b': 0, 'c': 0}\n",
      "{'a': 1, 'b': 0, 'c': 0}\n"
     ]
    }
   ],
   "source": [
    "keys = [\"a\", \"b\", \"c\"]\n",
    "default_values = 0\n",
    "dict_data3 = dict.fromkeys(keys, default_values)\n",
    "print(dict_data3)\n",
    "# setting new values for keys\n",
    "dict_data3[\"a\"] = 1\n",
    "print(dict_data3)"
   ]
  },
  {
   "cell_type": "markdown",
   "metadata": {},
   "source": [
    "### Control Flows and Statements"
   ]
  },
  {
   "cell_type": "code",
   "execution_count": 4,
   "metadata": {},
   "outputs": [
    {
     "name": "stdout",
     "output_type": "stream",
     "text": [
      "Wow! It's not hot!\n",
      "It's a regular day\n"
     ]
    }
   ],
   "source": [
    "# conditional statements\n",
    "# if/else\n",
    "temperature = 29\n",
    "if temperature >= 40:\n",
    " print(\"It's pretty hot.\")\n",
    "elif temperature >= 30:\n",
    " print(\"It's not as hot as before\")\n",
    "else:\n",
    " print(\"Wow! It's not hot!\")\n",
    " # match/case\n",
    "day = \"Thursday\"\n",
    "match day:\n",
    " case \"Monday\":\n",
    "  print(\"It's the start of the week\")\n",
    " case \"Friday\":\n",
    "  print(\"It's the weekend!\")\n",
    " case _:\n",
    "  print(\"It's a regular day\")"
   ]
  },
  {
   "cell_type": "code",
   "execution_count": 5,
   "metadata": {},
   "outputs": [
    {
     "name": "stdout",
     "output_type": "stream",
     "text": [
      "0\n",
      "1\n",
      "2\n",
      "While loop is done!\n",
      "0\n",
      "1\n",
      "2\n",
      "3\n",
      "4\n",
      "5\n",
      "6\n",
      "7\n",
      "8\n",
      "9\n",
      "1\n",
      "2\n",
      "3\n",
      "4\n",
      "5\n",
      "1 2 3 4 5 \n",
      "t\n",
      "e\n",
      "s\n",
      "t\n"
     ]
    }
   ],
   "source": [
    "# Looping Statements\n",
    "# while\n",
    "count = 0\n",
    "while (count < 3):\n",
    " print(count)\n",
    " count = count + 1\n",
    "else:\n",
    " print(\"While loop is done!\")\n",
    "# For\n",
    "# range(number of times to repeat statement)\n",
    "for i in range(10):\n",
    "    print(i)\n",
    "# range(starting value, ending value)\n",
    "for i in range(1, 6):\n",
    "    print(i)\n",
    "# iterable values (lists, tuples, strings, etc.)\n",
    "# looping through lists\n",
    "list_data = [1, 2, 3, 4, 5]\n",
    "# for i in list_data:\n",
    "#     print(\"List data: \", i)\n",
    "# printing horizontally\n",
    "list_str = \"\"\n",
    "for i in list_data:\n",
    "    list_str += f\"{i} \"\n",
    "print(list_str)\n",
    "# looping through strings\n",
    "str4 = \"test\"\n",
    "for i in str4:\n",
    "    print(i)"
   ]
  },
  {
   "cell_type": "markdown",
   "metadata": {},
   "source": [
    "### Python Functions\n",
    "- Groups code together into a block.\n",
    "- Allows us to call and reuse code efficently.\n",
    "- It could take in information (parameters) and return information (return statement) to the caller."
   ]
  },
  {
   "cell_type": "code",
   "execution_count": 6,
   "metadata": {},
   "outputs": [
    {
     "name": "stdout",
     "output_type": "stream",
     "text": [
      "Hello World\n",
      "Hello World\n",
      "Hello World\n",
      "Hello World\n"
     ]
    }
   ],
   "source": [
    "def my_function():\n",
    " print(\"Hello World\")\n",
    "# calling a function\n",
    "my_function()\n",
    "my_function()\n",
    "my_function()\n",
    "my_function()"
   ]
  },
  {
   "cell_type": "code",
   "execution_count": 7,
   "metadata": {},
   "outputs": [
    {
     "name": "stdout",
     "output_type": "stream",
     "text": [
      "Hello, I am Abbi.\n",
      "Hello, I am Abbi Vicente\n"
     ]
    }
   ],
   "source": [
    "# parameters and arguments\n",
    "def name_function(fname):\n",
    " print(f\"Hello, I am {fname}.\")\n",
    "name_function(\"Abbi\")\n",
    "# multiple parameters and arguments\n",
    "def full_name(fname, lname):\n",
    " print(\"Hello, I am\" + \" \" + fname + \" \" + lname)\n",
    "full_name(\"Abbi\", \"Vicente\")"
   ]
  },
  {
   "cell_type": "code",
   "execution_count": 8,
   "metadata": {},
   "outputs": [
    {
     "name": "stdout",
     "output_type": "stream",
     "text": [
      "Aaron\n",
      "Francis\n",
      "Adrian\n",
      "Julia\n"
     ]
    }
   ],
   "source": [
    "# Arbitrary Arguments (*args)\n",
    "def list_function(*kids):\n",
    " for i in kids:\n",
    "  print(i)\n",
    "list_function(\"Aaron\", \"Francis\", \"Adrian\", \"Julia\")"
   ]
  },
  {
   "cell_type": "code",
   "execution_count": 9,
   "metadata": {},
   "outputs": [
    {
     "name": "stdout",
     "output_type": "stream",
     "text": [
      "Banana\n",
      "Grapes\n",
      "Apple\n",
      "This person's name is Princess Lim\n"
     ]
    }
   ],
   "source": [
    "# Keyword Arguments\n",
    "def fruit_function(fruit3, fruit2, fruit1):\n",
    " print(fruit1)\n",
    " print(fruit2)\n",
    " print(fruit3)\n",
    "fruit_function(fruit1=\"Banana\", fruit2=\"Grapes\", fruit3=\"Apple\")\n",
    "# Arbitrary keyword arguments (**kwargs)\n",
    "# use pass to make placeholder functions\n",
    "def person_function(**details):\n",
    " print(f\"This person's name is {details[\"fname\"]} {details[\"lname\"]}\")\n",
    "person_function(fname=\"Princess\", lname=\"Lim\")"
   ]
  },
  {
   "cell_type": "code",
   "execution_count": null,
   "metadata": {},
   "outputs": [],
   "source": []
  }
 ],
 "metadata": {
  "kernelspec": {
   "display_name": "venv",
   "language": "python",
   "name": "python3"
  },
  "language_info": {
   "codemirror_mode": {
    "name": "ipython",
    "version": 3
   },
   "file_extension": ".py",
   "mimetype": "text/x-python",
   "name": "python",
   "nbconvert_exporter": "python",
   "pygments_lexer": "ipython3",
   "version": "3.12.4"
  }
 },
 "nbformat": 4,
 "nbformat_minor": 2
}
