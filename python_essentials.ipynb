{
 "cells": [
  {
   "cell_type": "code",
   "execution_count": 3,
   "metadata": {},
   "outputs": [
    {
     "name": "stdout",
     "output_type": "stream",
     "text": [
      "Hello world!\n"
     ]
    }
   ],
   "source": [
    "print (\"Hello world!\")"
   ]
  },
  {
   "cell_type": "markdown",
   "metadata": {},
   "source": [
    "## Comments\n",
    "Commenting is the process of adding annotations or remarks within your code to provide explanations, context, or documentation. Comments are not executed by the interpreter/compiler and are purely for the benefit of developers reading the code."
   ]
  },
  {
   "cell_type": "code",
   "execution_count": 4,
   "metadata": {},
   "outputs": [],
   "source": [
    "# This is a single line comment"
   ]
  },
  {
   "cell_type": "code",
   "execution_count": 5,
   "metadata": {},
   "outputs": [
    {
     "data": {
      "text/plain": [
       "'\\nThis is another way to create comments.\\nMulti-line comments.\\nenclosed in triple quotes\\n'"
      ]
     },
     "execution_count": 5,
     "metadata": {},
     "output_type": "execute_result"
    }
   ],
   "source": [
    "\"\"\"\n",
    "This is another way to create comments.\n",
    "Multi-line comments.\n",
    "enclosed in triple quotes\n",
    "\"\"\""
   ]
  },
  {
   "cell_type": "code",
   "execution_count": 6,
   "metadata": {},
   "outputs": [],
   "source": [
    "x = 5 # This is an inline comment"
   ]
  },
  {
   "cell_type": "markdown",
   "metadata": {},
   "source": [
    "**Creating Variables**\n",
    "Creating a variable in Python is simple. You assign a value to a variable name and start using it. Python figures out the variable type automatically.\n",
    "**Variable Naming Rules**\n",
    "- Variable names can contain letters (both uppercase and lowercase), digits, and underscores.\n",
    "- They must begin with a letter or an underscore (_), but not with a digit.\n",
    "- Case sensitive (myVar and myvar are different variables)\n",
    "- Python keywords cannot be used as variable names."
   ]
  },
  {
   "cell_type": "code",
   "execution_count": 8,
   "metadata": {},
   "outputs": [],
   "source": [
    "# Things to Avoid\n",
    "# x - 2 = 10\n",
    "# True = 5\n",
    "# False = 4\n",
    "# 2 = 5"
   ]
  },
  {
   "cell_type": "code",
   "execution_count": 15,
   "metadata": {},
   "outputs": [
    {
     "name": "stdout",
     "output_type": "stream",
     "text": [
      "5\n",
      "-20\n"
     ]
    }
   ],
   "source": [
    "integer_number = 5\n",
    "negative_integer = -20\n",
    "print(integer_number)\n",
    "print(negative_integer)"
   ]
  },
  {
   "cell_type": "code",
   "execution_count": 18,
   "metadata": {},
   "outputs": [
    {
     "name": "stdout",
     "output_type": "stream",
     "text": [
      "Type of integer_number: <class 'int'>\n"
     ]
    }
   ],
   "source": [
    "print(\"Type of integer_number:\", type(integer_number))"
   ]
  },
  {
   "cell_type": "code",
   "execution_count": 16,
   "metadata": {},
   "outputs": [
    {
     "name": "stdout",
     "output_type": "stream",
     "text": [
      "2.14\n",
      "-20.55\n"
     ]
    }
   ],
   "source": [
    "float_number = 2.14\n",
    "negative_float = -20.55\n",
    "print(float_number)\n",
    "print(negative_float)"
   ]
  },
  {
   "cell_type": "code",
   "execution_count": 17,
   "metadata": {},
   "outputs": [
    {
     "name": "stdout",
     "output_type": "stream",
     "text": [
      "Type of float_number: <class 'float'>\n"
     ]
    }
   ],
   "source": [
    "print(\"Type of float_number:\", type(float_number))"
   ]
  },
  {
   "cell_type": "code",
   "execution_count": 3,
   "metadata": {},
   "outputs": [
    {
     "name": "stdout",
     "output_type": "stream",
     "text": [
      "7\n"
     ]
    }
   ],
   "source": [
    "x = 5\n",
    "y = 2\n",
    "\n",
    "print(x + y)"
   ]
  },
  {
   "cell_type": "markdown",
   "metadata": {},
   "source": [
    "## Sequence Types ##\n",
    "1. **String**: String values, representing text or characters, such as 'hello', \"world\", '123', etc."
   ]
  },
  {
   "cell_type": "code",
   "execution_count": 6,
   "metadata": {},
   "outputs": [
    {
     "name": "stdout",
     "output_type": "stream",
     "text": [
      "Hello World!\n",
      "Hello Python\n",
      "user123\n",
      "H\n",
      "!\n",
      "<class 'str'>\n"
     ]
    }
   ],
   "source": [
    "str1 = \"Hello World!\"\n",
    "str2 = 'Hello Python'\n",
    "user = \"user123\"\n",
    "print(str1)\n",
    "print(str2)\n",
    "print(user)\n",
    "\n",
    "# String index\n",
    "print(str1[0])\n",
    "print(str1[-1])\n",
    "print(type(str1))"
   ]
  },
  {
   "cell_type": "markdown",
   "metadata": {},
   "source": [
    "2. **Lists**: Lists are used when you need a collection of elements that can be modified or reordered. They are suitable for sequences of items of the same type or different types."
   ]
  },
  {
   "cell_type": "code",
   "execution_count": 7,
   "metadata": {},
   "outputs": [
    {
     "name": "stdout",
     "output_type": "stream",
     "text": [
      "[1, 2, 3, 4, 5]\n",
      "['Princess', 'Ralph', 'Lynbert']\n",
      "1\n",
      "['Lim', 'Ralph', 'Lynbert']\n"
     ]
    }
   ],
   "source": [
    "numbers = [1, 2, 3, 4, 5] # list of ints\n",
    "names = [\"Princess\", \"Ralph\", \"Lynbert\"] #list of strings\n",
    "print(numbers)\n",
    "print(names)\n",
    "# List indexing\n",
    "print(numbers[0])\n",
    "names[0] = \"Lim\"\n",
    "print(names)"
   ]
  },
  {
   "cell_type": "markdown",
   "metadata": {},
   "source": [
    "3. **Tuple**: Tuples are used when you want to store a fixed collection of elements that should not be changed. They are often used for immutable sequences, such as coordinates, database records, or function return values. Usually uses parentheses."
   ]
  },
  {
   "cell_type": "code",
   "execution_count": 8,
   "metadata": {},
   "outputs": [
    {
     "name": "stdout",
     "output_type": "stream",
     "text": [
      "(1, 'hello', 3.14)\n"
     ]
    }
   ],
   "source": [
    "tuple_values = (1, \"hello\", 3.14)\n",
    "print(tuple_values)"
   ]
  },
  {
   "cell_type": "code",
   "execution_count": 8,
   "metadata": {},
   "outputs": [
    {
     "ename": "TypeError",
     "evalue": "'tuple' object does not support item assignment",
     "output_type": "error",
     "traceback": [
      "\u001b[1;31m---------------------------------------------------------------------------\u001b[0m",
      "\u001b[1;31mTypeError\u001b[0m                                 Traceback (most recent call last)",
      "Cell \u001b[1;32mIn[8], line 2\u001b[0m\n\u001b[0;32m      1\u001b[0m tuple_values \u001b[38;5;241m=\u001b[39m (\u001b[38;5;241m1\u001b[39m, \u001b[38;5;124m\"\u001b[39m\u001b[38;5;124mhello\u001b[39m\u001b[38;5;124m\"\u001b[39m, \u001b[38;5;241m3.14\u001b[39m)\n\u001b[1;32m----> 2\u001b[0m \u001b[43mtuple_values\u001b[49m\u001b[43m[\u001b[49m\u001b[38;5;241;43m0\u001b[39;49m\u001b[43m]\u001b[49m \u001b[38;5;241m=\u001b[39m \u001b[38;5;241m2\u001b[39m\n\u001b[0;32m      3\u001b[0m \u001b[38;5;28mprint\u001b[39m(tuple_values)\n",
      "\u001b[1;31mTypeError\u001b[0m: 'tuple' object does not support item assignment"
     ]
    }
   ],
   "source": [
    "tuple_values = (1, \"hello\", 3.14)\n",
    "tuple_values[0] = 2\n",
    "print(tuple_values)"
   ]
  },
  {
   "cell_type": "markdown",
   "metadata": {},
   "source": [
    "**Dictionaries**:  Dictionaries are used when you need to associate keys with values for efficient lookup. They are suitable for representing data with key-value relationships, such as mappings, configurations, or database records indexed by unique keys."
   ]
  },
  {
   "cell_type": "code",
   "execution_count": 10,
   "metadata": {},
   "outputs": [
    {
     "name": "stdout",
     "output_type": "stream",
     "text": [
      "{'name': 'John', 'age': 30}\n",
      "30\n"
     ]
    }
   ],
   "source": [
    "person = {\"name\": \"John\", \"age\": 30}\n",
    "print(person)\n",
    "print(person['age'])"
   ]
  },
  {
   "cell_type": "markdown",
   "metadata": {},
   "source": [
    "\n",
    "### Boolean Type:\n",
    "**Bool**: Boolean values representing True or False. Boolean logic is a type of algebra in which results are calculated as either TRUE or FALSE (known as truth values or truth variables)."
   ]
  },
  {
   "cell_type": "code",
   "execution_count": 11,
   "metadata": {},
   "outputs": [
    {
     "name": "stdout",
     "output_type": "stream",
     "text": [
      "True\n",
      "False\n",
      "<class 'bool'>\n"
     ]
    }
   ],
   "source": [
    "is_valid = True\n",
    "is_admin = False\n",
    "print(is_valid)\n",
    "print(is_admin)\n",
    "print(type(is_valid))"
   ]
  },
  {
   "cell_type": "markdown",
   "metadata": {},
   "source": [
    "**Dynamic Typing**\n",
    "Variables can change type after they have been set. This is known as dynamic typing."
   ]
  },
  {
   "cell_type": "code",
   "execution_count": 12,
   "metadata": {},
   "outputs": [
    {
     "name": "stdout",
     "output_type": "stream",
     "text": [
      "<class 'int'>\n",
      "<class 'str'>\n",
      "<class 'float'>\n"
     ]
    }
   ],
   "source": [
    "my_var = 10\n",
    "print(type(my_var))\n",
    "my_var = \"Test String\"\n",
    "print(type(my_var))\n",
    "my_var = 1.2\n",
    "print(type(my_var))"
   ]
  },
  {
   "cell_type": "markdown",
   "metadata": {},
   "source": [
    "## Python Operators and Expressions\n",
    "### Arithmetic Operators"
   ]
  },
  {
   "cell_type": "code",
   "execution_count": 15,
   "metadata": {},
   "outputs": [
    {
     "name": "stdout",
     "output_type": "stream",
     "text": [
      "Addition: 15\n",
      "Subtraction: -5\n",
      "Multiplication: 50\n",
      "Division: 0.5\n",
      "Modulus: 2\n",
      "Exponent:  1000\n"
     ]
    }
   ],
   "source": [
    "# Addition +\n",
    "print(\"Addition:\", 5 + 10)\n",
    "# Subtraction -\n",
    "print(\"Subtraction:\", 5 - 10)\n",
    "# Multiplication *\n",
    "print(\"Multiplication:\", 5 * 10)\n",
    "# Division /\n",
    "print(\"Division:\", 5 / 10)\n",
    "# Modulus % (remainder)\n",
    "print(\"Modulus:\", 23 % 7)\n",
    "# Exponent\n",
    "print(\"Exponent: \", 10 ** 3) #10^3"
   ]
  },
  {
   "cell_type": "markdown",
   "metadata": {},
   "source": [
    "### Comparison Operators"
   ]
  },
  {
   "cell_type": "code",
   "execution_count": 16,
   "metadata": {},
   "outputs": [
    {
     "name": "stdout",
     "output_type": "stream",
     "text": [
      "False\n",
      "True\n",
      "True\n",
      "False\n",
      "True\n",
      "False\n"
     ]
    }
   ],
   "source": [
    "x = 10\n",
    "y = 5\n",
    "# Equal to\n",
    "result = x == y\n",
    "print(result)\n",
    "# Not equal to\n",
    "result = x != y\n",
    "print(result)\n",
    "# Greater Than\n",
    "result = x > y\n",
    "print(result)\n",
    "# Less Than\n",
    "result = x < y\n",
    "print(result)\n",
    "# greater than or equal to\n",
    "result = x >= y\n",
    "print(result)\n",
    "# less than or equal to\n",
    "result = x <= y\n",
    "print(result)"
   ]
  },
  {
   "cell_type": "markdown",
   "metadata": {},
   "source": [
    "### Logical Operators"
   ]
  },
  {
   "cell_type": "code",
   "execution_count": 18,
   "metadata": {},
   "outputs": [
    {
     "name": "stdout",
     "output_type": "stream",
     "text": [
      "True\n",
      "True\n",
      "False\n"
     ]
    }
   ],
   "source": [
    "x = 10\n",
    "y = 5\n",
    "# AND\n",
    "result = (x > 5) and (y < 10)\n",
    "print(result)\n",
    "# OR\n",
    "result = (x > 5) or (y < 3)\n",
    "print(result)\n",
    "# NOT\n",
    "result =  not (x == 10)\n",
    "print(result)"
   ]
  },
  {
   "cell_type": "markdown",
   "metadata": {},
   "source": [
    "### Assignment Operators"
   ]
  },
  {
   "cell_type": "code",
   "execution_count": 19,
   "metadata": {},
   "outputs": [
    {
     "name": "stdout",
     "output_type": "stream",
     "text": [
      "15\n",
      "10\n",
      "50\n",
      "10.0\n"
     ]
    }
   ],
   "source": [
    "x = 10\n",
    "#Addition Assignment\n",
    "x += 5 # x = x + 5\n",
    "print(x)\n",
    "#Subtraction\n",
    "x -= 5\n",
    "print(x)\n",
    "#Multiplication\n",
    "x *= 5\n",
    "print(x)\n",
    "#Division\n",
    "x /= 5\n",
    "print(x)"
   ]
  },
  {
   "cell_type": "markdown",
   "metadata": {},
   "source": [
    "### Type Coercion or Type Conversion"
   ]
  },
  {
   "cell_type": "code",
   "execution_count": 20,
   "metadata": {},
   "outputs": [
    {
     "name": "stdout",
     "output_type": "stream",
     "text": [
      "10.0\n",
      "<class 'float'>\n",
      "10.23\n",
      "<class 'str'>\n",
      "10\n"
     ]
    }
   ],
   "source": [
    "x = 10 # int\n",
    "# converting to float\n",
    "x = float(x)\n",
    "print(x)\n",
    "print(type(x))\n",
    "# convert to string\n",
    "x = 10.23\n",
    "x = str(x)\n",
    "print(x)\n",
    "print(type(x))\n",
    "x = 10.45\n",
    "x = int(x)\n",
    "print(x)"
   ]
  },
  {
   "cell_type": "markdown",
   "metadata": {},
   "source": [
    "### String Methods"
   ]
  },
  {
   "cell_type": "code",
   "execution_count": 21,
   "metadata": {},
   "outputs": [
    {
     "name": "stdout",
     "output_type": "stream",
     "text": [
      "Hello Python!\n",
      "13\n",
      "H\n",
      "Hello\n",
      "!gnirts siht esreveR\n"
     ]
    }
   ],
   "source": [
    "my_string = \"Hello Python!\"\n",
    "print(my_string)\n",
    "print(len(my_string))\n",
    "first_letter = my_string[0]\n",
    "print(first_letter)\n",
    "slice_string = my_string[0:5]\n",
    "print(slice_string)\n",
    "my_text = \"Reverse this string!\"\n",
    "# starting point: ending point : traversal method\n",
    "reversed_string = my_text[::-1]\n",
    "print(reversed_string)"
   ]
  },
  {
   "cell_type": "code",
   "execution_count": 22,
   "metadata": {},
   "outputs": [
    {
     "name": "stdout",
     "output_type": "stream",
     "text": [
      "Data analytics course\n",
      "Data Analytics Course\n",
      "True\n",
      "False\n",
      "5\n",
      "-1\n",
      "information analytics course\n",
      "Information Analytics Course\n",
      "DATA ANALYTICS COURSE\n",
      "data analytics course\n"
     ]
    }
   ],
   "source": [
    "sample_string = \"data analytics course\"\n",
    "# capitalize\n",
    "print(sample_string.capitalize())\n",
    "# title\n",
    "print(sample_string.title())\n",
    "# in\n",
    "print(\"data\" in sample_string)\n",
    "print(\"science\" in sample_string)\n",
    "# find\n",
    "print(sample_string.find(\"analytics\"))\n",
    "print(sample_string.find(\"science\"))\n",
    "#replace\n",
    "print(sample_string.replace(\"data\", \"information\"))\n",
    "# combine\n",
    "print(sample_string.replace(\"data\", \"information\").title())\n",
    "# lower and uppercase\n",
    "print(sample_string.upper())\n",
    "print(sample_string.lower())"
   ]
  },
  {
   "cell_type": "code",
   "execution_count": 23,
   "metadata": {},
   "outputs": [
    {
     "name": "stdout",
     "output_type": "stream",
     "text": [
      "2\n",
      "Data Analyst - Junior\n",
      "Words: ['Python', 'is', 'fun', 'to', 'learn']\n"
     ]
    }
   ],
   "source": [
    "text = \"the quick brown fox jumps over the lazy dog\"\n",
    "# count\n",
    "print(text.count(\"the\"))\n",
    "messy_string = \"        Data Analyst - Junior       \"\n",
    "# strip\n",
    "print(messy_string.strip())\n",
    "# split\n",
    "sentence = \"Python is fun to learn\"\n",
    "words = sentence.split(\" \")\n",
    "print(\"Words:\", words)"
   ]
  },
  {
   "cell_type": "markdown",
   "metadata": {},
   "source": [
    "### Concatenation, f-strings and .format()"
   ]
  },
  {
   "cell_type": "code",
   "execution_count": 24,
   "metadata": {},
   "outputs": [
    {
     "name": "stdout",
     "output_type": "stream",
     "text": [
      "Abbi Vicente\n",
      "Hello my name is Abbi Vicente\n",
      "\n",
      "SELECT * FROM\n",
      "WHERE\n",
      "x in (Abbi)\n",
      "\n"
     ]
    }
   ],
   "source": [
    "first_name = \"Abbi\"\n",
    "last_name = \"Vicente\"\n",
    "full_name = first_name + \" \" + last_name\n",
    "print(full_name)\n",
    "#f-strings\n",
    "print(f\"Hello my name is {first_name} {last_name}\")\n",
    "sql_str = \"\"\"\n",
    "SELECT * FROM\n",
    "WHERE\n",
    "x in ({x})\n",
    "\"\"\"\n",
    "print(sql_str.format(x=first_name))"
   ]
  },
  {
   "cell_type": "markdown",
   "metadata": {},
   "source": [
    "### List Methods"
   ]
  },
  {
   "cell_type": "markdown",
   "metadata": {},
   "source": [
    "Note: square brackets [] are used for lists, indexing, and list comprehensions; curly brackets {} are used for dictionaries, sets, and comprehensions; parentheses () are used for tuples, function calls, and grouping expressions. They are not interchangeable because each serves a specific role in the Python language."
   ]
  },
  {
   "cell_type": "code",
   "execution_count": 25,
   "metadata": {},
   "outputs": [
    {
     "name": "stdout",
     "output_type": "stream",
     "text": [
      "['Python', 'Java', 'C++']\n",
      "['Python', 'Java', 'C++', 'PHP']\n",
      "['Python', 'Java', 'Ruby', 'C++', 'PHP']\n",
      "['Python', 'Java', 'Ruby', 'C++']\n",
      "['Python', 'Ruby', 'C++']\n",
      "['Python', 'C++']\n"
     ]
    }
   ],
   "source": [
    "# Create list\n",
    "my_list = [\"Python\", \"Java\", \"C++\"]\n",
    "print(my_list)\n",
    "# Adding a new item - append\n",
    "my_list.append(\"PHP\")\n",
    "print(my_list)\n",
    "# Insert item at a specific position\n",
    "my_list.insert(2, \"Ruby\")\n",
    "print(my_list)\n",
    "# Remove item at the end\n",
    "my_list.pop()\n",
    "print(my_list)\n",
    "# remove specific value\n",
    "my_list.remove(\"Java\")\n",
    "print(my_list)\n",
    "# remove by index\n",
    "del my_list[1]\n",
    "print(my_list)"
   ]
  },
  {
   "cell_type": "code",
   "execution_count": 26,
   "metadata": {},
   "outputs": [
    {
     "data": {
      "text/plain": [
       "[4, 3, 2, 1]"
      ]
     },
     "execution_count": 26,
     "metadata": {},
     "output_type": "execute_result"
    }
   ],
   "source": [
    "# list slicing\n",
    "list_data = [1, 2, 3, 4, 5]\n",
    "# starting point : ending point : traversal method\n",
    "list_data[3:]\n",
    "list_data[3::-1]"
   ]
  },
  {
   "cell_type": "code",
   "execution_count": 27,
   "metadata": {},
   "outputs": [
    {
     "name": "stdout",
     "output_type": "stream",
     "text": [
      "[1, 2, 3, 'a', 'b', True]\n",
      "[1, 2, 3, 'a', 'b', True]\n"
     ]
    }
   ],
   "source": [
    "# list extending\n",
    "list_a = [1, 2, 3]\n",
    "list_b = [\"a\", \"b\", True]\n",
    "# combining lists\n",
    "print(list_a + list_b)\n",
    "# extendin a list with another list\n",
    "list_a.extend(list_b)\n",
    "print(list_a)"
   ]
  },
  {
   "cell_type": "code",
   "execution_count": 28,
   "metadata": {},
   "outputs": [
    {
     "name": "stdout",
     "output_type": "stream",
     "text": [
      "[3, 5, 8, 19, 20]\n",
      "[20, 19, 8, 5, 3]\n",
      "['Al', 'Brandy', 'Cristina', 'Marc']\n"
     ]
    }
   ],
   "source": [
    "# sort\n",
    "list_data = [3, 5, 19, 20, 8]\n",
    "list_data.sort()\n",
    "print(list_data)\n",
    "# Descending order\n",
    "list_data.sort(reverse=True)\n",
    "print(list_data)\n",
    "list_names = [\"Brandy\", \"Al\", \"Cristina\", \"Marc\"]\n",
    "list_names.sort()\n",
    "print(list_names)"
   ]
  },
  {
   "cell_type": "markdown",
   "metadata": {},
   "source": [
    "### Tuple Methods"
   ]
  },
  {
   "cell_type": "code",
   "execution_count": 29,
   "metadata": {},
   "outputs": [
    {
     "name": "stdout",
     "output_type": "stream",
     "text": [
      "3\n",
      "3\n",
      "(1, 2, 3, 4)\n",
      "(1, 2, 1, 2, 1, 2)\n"
     ]
    }
   ],
   "source": [
    "#create a tuple\n",
    "tuple_data = (1, 2, 3, 4, 5)\n",
    "print(tuple_data[2])\n",
    "nested_list_tuple = ([1, 2], [3, 4], [5, 6])\n",
    "print(nested_list_tuple[1][0])\n",
    "# combining tuples\n",
    "tuple_data = (1, 2) + (3, 4)\n",
    "print(tuple_data)\n",
    "# duplicating tuples in one tuple\n",
    "tuple_data = (1, 2) * 3\n",
    "print(tuple_data)"
   ]
  },
  {
   "cell_type": "code",
   "execution_count": 30,
   "metadata": {},
   "outputs": [
    {
     "name": "stdout",
     "output_type": "stream",
     "text": [
      "[10, 4]\n"
     ]
    }
   ],
   "source": [
    "nested_list_tuple = ([1, 2], [3, 4], [5, 6])\n",
    "nested_list_tuple[1][0] = 10\n",
    "print(nested_list_tuple[1])"
   ]
  },
  {
   "cell_type": "code",
   "execution_count": null,
   "metadata": {},
   "outputs": [],
   "source": []
  }
 ],
 "metadata": {
  "kernelspec": {
   "display_name": "Python 3",
   "language": "python",
   "name": "python3"
  },
  "language_info": {
   "codemirror_mode": {
    "name": "ipython",
    "version": 3
   },
   "file_extension": ".py",
   "mimetype": "text/x-python",
   "name": "python",
   "nbconvert_exporter": "python",
   "pygments_lexer": "ipython3",
   "version": "3.12.4"
  }
 },
 "nbformat": 4,
 "nbformat_minor": 2
}
